{
 "cells": [
  {
   "cell_type": "code",
   "execution_count": 2,
   "metadata": {},
   "outputs": [],
   "source": [
    "import pandas as pd\n",
    "import numpy as np\n",
    "from sklearn.preprocessing import MinMaxScaler\n",
    "from sklearn.metrics.pairwise import cosine_similarity\n"
   ]
  },
  {
   "cell_type": "code",
   "execution_count": 3,
   "metadata": {},
   "outputs": [],
   "source": [
    "# For loading the data\n",
    "customers = pd.read_csv('Customers.csv')\n",
    "products = pd.read_csv('Products.csv')\n",
    "transactions = pd.read_csv('Transactions.csv')\n",
    "\n",
    "# For merging the datasets\n",
    "merged_data = transactions.merge(customers, on='CustomerID').merge(products, on='ProductID')\n"
   ]
  },
  {
   "cell_type": "code",
   "execution_count": 4,
   "metadata": {},
   "outputs": [
    {
     "name": "stdout",
     "output_type": "stream",
     "text": [
      "  CustomerID  TotalValue  Quantity  UniqueProducts\n",
      "0      C0001     3354.52        12               5\n",
      "1      C0002     1862.74        10               4\n",
      "2      C0003     2725.38        14               4\n",
      "3      C0004     5354.88        23               8\n",
      "4      C0005     2034.24         7               3\n"
     ]
    }
   ],
   "source": [
    "# For aggregating the features for each customer\n",
    "customer_features = merged_data.groupby('CustomerID').agg({\n",
    "    'TotalValue': 'sum',   # Total spending\n",
    "    'Quantity': 'sum',    # Total quantity being purchased\n",
    "    'ProductID': 'nunique' # Number of unique products being purchased\n",
    "}).reset_index()\n",
    "\n",
    "customer_features.rename(columns={'ProductID': 'UniqueProducts'}, inplace=True)\n",
    "print(customer_features.head())\n"
   ]
  },
  {
   "cell_type": "code",
   "execution_count": 5,
   "metadata": {},
   "outputs": [],
   "source": [
    "scaler = MinMaxScaler()\n",
    "scaled_features = scaler.fit_transform(customer_features[['TotalValue', 'Quantity', 'UniqueProducts']])\n"
   ]
  },
  {
   "cell_type": "code",
   "execution_count": 6,
   "metadata": {},
   "outputs": [],
   "source": [
    "# For finding the similarities\n",
    "\n",
    "similarity_matrix = cosine_similarity(scaled_features)\n"
   ]
  },
  {
   "cell_type": "code",
   "execution_count": 7,
   "metadata": {},
   "outputs": [],
   "source": [
    "#Let's find the Top 3 Lookalikes\n",
    "\n",
    "def get_top_n_lookalikes(similarity_matrix, customer_ids, n=3):\n",
    "    recommendations = {}\n",
    "    for i, customer_id in enumerate(customer_ids):\n",
    "        scores = list(enumerate(similarity_matrix[i]))\n",
    "        scores = sorted(scores, key=lambda x: x[1], reverse=True)\n",
    "        top_customers = [{\"CustomerID\": customer_ids[j], \"Score\": round(score, 4)} for j, score in scores[1:n+1]]\n",
    "        recommendations[customer_id] = top_customers\n",
    "    return recommendations\n"
   ]
  },
  {
   "cell_type": "code",
   "execution_count": 9,
   "metadata": {},
   "outputs": [
    {
     "name": "stdout",
     "output_type": "stream",
     "text": [
      "Similarity Matrix Shape: (199, 199)\n",
      "Customer IDs Length: 199\n"
     ]
    }
   ],
   "source": [
    "print(\"Similarity Matrix Shape:\", similarity_matrix.shape)\n",
    "print(\"Customer IDs Length:\", len(customer_ids))\n"
   ]
  },
  {
   "cell_type": "code",
   "execution_count": 10,
   "metadata": {},
   "outputs": [],
   "source": [
    "customer_ids = customer_features['CustomerID'][:similarity_matrix.shape[0]].tolist()\n"
   ]
  },
  {
   "cell_type": "code",
   "execution_count": 13,
   "metadata": {},
   "outputs": [],
   "source": [
    "lookalike_recommendations = get_top_n_lookalikes(similarity_matrix, customer_ids[:20])\n"
   ]
  },
  {
   "cell_type": "code",
   "execution_count": 14,
   "metadata": {},
   "outputs": [],
   "source": [
    "customer_ids = customer_features['CustomerID'].tolist()\n",
    "lookalike_recommendations = get_top_n_lookalikes(similarity_matrix, customer_ids[:20])\n",
    "\n",
    "# Convert to DataFrame and save as CSV\n",
    "import json\n",
    "lookalike_df = pd.DataFrame([\n",
    "    {'CustomerID': k, 'Lookalikes': json.dumps(v)} for k, v in lookalike_recommendations.items()\n",
    "])\n",
    "lookalike_df.to_csv('Lookalike.csv', index=False)\n"
   ]
  }
 ],
 "metadata": {
  "kernelspec": {
   "display_name": "venv",
   "language": "python",
   "name": "python3"
  },
  "language_info": {
   "codemirror_mode": {
    "name": "ipython",
    "version": 3
   },
   "file_extension": ".py",
   "mimetype": "text/x-python",
   "name": "python",
   "nbconvert_exporter": "python",
   "pygments_lexer": "ipython3",
   "version": "3.11.5"
  }
 },
 "nbformat": 4,
 "nbformat_minor": 2
}
